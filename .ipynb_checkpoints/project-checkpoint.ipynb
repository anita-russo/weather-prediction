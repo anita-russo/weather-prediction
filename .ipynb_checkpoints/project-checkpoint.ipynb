{
 "cells": [
  {
   "cell_type": "code",
   "execution_count": 21,
   "metadata": {},
   "outputs": [
    {
     "data": {
      "text/plain": [
       "0    2018\n",
       "1    2018\n",
       "2    2018\n",
       "3    2018\n",
       "4    2018\n",
       "Name: Year, dtype: object"
      ]
     },
     "execution_count": 21,
     "metadata": {},
     "output_type": "execute_result"
    }
   ],
   "source": []
  },
  {
   "cell_type": "code",
   "execution_count": 11,
   "metadata": {},
   "outputs": [
    {
     "name": "stdout",
     "output_type": "stream",
     "text": [
      "-5.651082251082253\n",
      "-5.149769585253456\n",
      "-0.6783549783549779\n",
      "6.38539823008849\n",
      "14.234199134199137\n",
      "19.087295081967206\n",
      "21.854651162790702\n",
      "21.236781609195393\n",
      "17.61746031746032\n",
      "10.598832684824902\n",
      "3.9873949579831938\n",
      "-1.8695652173913047\n"
     ]
    }
   ],
   "source": [
    "import pandas as pd\n",
    "df = pd.read_csv('Toronto_temp.csv')\n",
    "\n",
    "#get the mean values based on month\n",
    "month_mean = df.groupby('Month').mean()\n",
    "\n",
    "#get month array from indices\n",
    "months = month_mean.index\n",
    "\n",
    "#get avg for each month\n",
    "averages = month_mean['Mean Temp (C)']\n",
    "\n",
    "#prints each months average\n",
    "for i in averages:\n",
    "    print(i)\n",
    "\n",
    "#just outputting avg max, min & mean per season\n",
    "df.groupby('season')['Max Temp (C)'].mean()\n",
    "df.groupby('season')['Min Temp (C)'].mean()\n",
    "df.groupby('season')['Mean Temp (C)'].mean()\n",
    "\n",
    "#import bokeh (note: need to install first from cmd/terminal using pip install bokeh)\n",
    "from bokeh.plotting import figure\n",
    "from bokeh.io import output_file, show\n",
    "\n",
    "#sets output file to be displayed in browser, random name\n",
    "output_file('filename.html')\n",
    "\n",
    "#creating a random graph\n",
    "p = figure(plot_width=400, plot_height=400,\n",
    "           title='Average Temperature', toolbar_location=\"below\")\n",
    "\n",
    "#add circle plot to graph using months (array index) and averages (from month_mean)\n",
    "p.circle(months, averages, size=10)\n",
    "\n",
    "#running this shows the graph in a new tab\n",
    "show(p)\n",
    "\n",
    "#show line graph (instead of circles)\n",
    "f = figure()\n",
    "f.line(months, averages)\n",
    "show(f)\n"
   ]
  },
  {
   "cell_type": "code",
   "execution_count": 13,
   "metadata": {},
   "outputs": [],
   "source": [
    "#PLOTTING ALL TEMP POINTS + AVG LINE\n",
    "\n",
    "#get all temps\n",
    "temps = []\n",
    "for i in range(1,13):\n",
    "    temps.append(df[df['Month'] == i]['Mean Temp (C)'])\n",
    "\n",
    "#add points to map\n",
    "c = 0\n",
    "for i in temps:\n",
    "    f.circle(c+1, temps[c],size=1)\n",
    "    c+=1\n",
    "\n",
    "#show avg line & graph\n",
    "f.line(months, averages, color=\"red\",line_dash=[4, 10])\n",
    "show(f)\n"
   ]
  },
  {
   "cell_type": "code",
   "execution_count": 24,
   "metadata": {},
   "outputs": [],
   "source": [
    "#ADDING LEGEND, X-AXIS TICKS:\n",
    "from bokeh.models import SingleIntervalTicker, LinearAxis\n",
    "\n",
    "output_file('filename.html')\n",
    "\n",
    "f = figure(x_axis_type=None)\n",
    "\n",
    "c = 0\n",
    "for i in temps:\n",
    "    f.circle(c+1, temps[c],size=1,legend='Temperatures')\n",
    "    c+=1\n",
    "    \n",
    "f.xaxis.axis_label = 'Month (1-12)'\n",
    "f.yaxis.axis_label = 'Temperature (C)'\n",
    "\n",
    "f.add_layout(LinearAxis(ticker=SingleIntervalTicker(interval=1)), 'above')\n",
    "\n",
    "f.line(months, averages, color=\"red\", line_dash=[4, 10],legend=\"Average\")\n",
    "\n",
    "show(f)\n"
   ]
  },
  {
   "cell_type": "code",
   "execution_count": null,
   "metadata": {},
   "outputs": [],
   "source": []
  }
 ],
 "metadata": {
  "kernelspec": {
   "display_name": "Python 3",
   "language": "python",
   "name": "python3"
  },
  "language_info": {
   "codemirror_mode": {
    "name": "ipython",
    "version": 3
   },
   "file_extension": ".py",
   "mimetype": "text/x-python",
   "name": "python",
   "nbconvert_exporter": "python",
   "pygments_lexer": "ipython3",
   "version": "3.7.3"
  }
 },
 "nbformat": 4,
 "nbformat_minor": 2
}
